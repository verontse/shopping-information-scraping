{
 "cells": [
  {
   "cell_type": "code",
   "execution_count": 1,
   "metadata": {},
   "outputs": [],
   "source": [
    "import pandas as pd\n",
    "from selenium import webdriver\n",
    "from selenium.webdriver.common.by import By\n",
    "from selenium.webdriver.common.keys import Keys\n",
    "from selenium.webdriver.support.ui import WebDriverWait\n",
    "from selenium.webdriver.support import expected_conditions as EC\n",
    "from webdriver_manager.chrome import ChromeDriverManager"
   ]
  },
  {
   "cell_type": "code",
   "execution_count": 2,
   "metadata": {},
   "outputs": [
    {
     "name": "stderr",
     "output_type": "stream",
     "text": [
      "[WDM] - Downloading: 100%|██████████| 6.68M/6.68M [00:00<00:00, 23.7MB/s]\n",
      "C:\\Users\\User\\AppData\\Local\\Temp\\ipykernel_13344\\1745216554.py:6: DeprecationWarning: executable_path has been deprecated, please pass in a Service object\n",
      "  driver = webdriver.Chrome(ChromeDriverManager().install())\n"
     ]
    }
   ],
   "source": [
    "#Login\n",
    "\n",
    "email = 'email'\n",
    "password = 'password'\n",
    "\n",
    "driver = webdriver.Chrome(ChromeDriverManager().install())\n",
    "driver.get(r'https://www.buyippee.com/tc/account/login/order%2Findex')\n",
    "\n",
    "username = driver.find_element(By.NAME, 'MEMBER_EMAIL')\n",
    "username.send_keys(email)\n",
    "pw = driver.find_element(By.NAME, 'MEMBER_PW')\n",
    "pw.send_keys(password)\n",
    "\n",
    "driver.find_element(By.ID, 'btn_login').click()"
   ]
  },
  {
   "cell_type": "code",
   "execution_count": 3,
   "metadata": {},
   "outputs": [
    {
     "name": "stdout",
     "output_type": "stream",
     "text": [
      "B02912660 Pending delivery from store\n"
     ]
    }
   ],
   "source": [
    "#Scrape\n",
    "\n",
    "order_num = WebDriverWait(driver, 10).until(EC.presence_of_all_elements_located((By.CLASS_NAME, 'enter_order')))[0].text\n",
    "order_status = WebDriverWait(driver, 10).until(EC.presence_of_all_elements_located((By.CLASS_NAME, 'order_status')))[0].text\n",
    "\n",
    "print(order_num, order_status)"
   ]
  }
 ],
 "metadata": {
  "kernelspec": {
   "display_name": "Python 3.9.6 ('venv')",
   "language": "python",
   "name": "python3"
  },
  "language_info": {
   "codemirror_mode": {
    "name": "ipython",
    "version": 3
   },
   "file_extension": ".py",
   "mimetype": "text/x-python",
   "name": "python",
   "nbconvert_exporter": "python",
   "pygments_lexer": "ipython3",
   "version": "3.9.6"
  },
  "orig_nbformat": 4,
  "vscode": {
   "interpreter": {
    "hash": "3387f2516f66e85e85136cc0af7ef20c564fe31b8fd20a814da906abec761da1"
   }
  }
 },
 "nbformat": 4,
 "nbformat_minor": 2
}
